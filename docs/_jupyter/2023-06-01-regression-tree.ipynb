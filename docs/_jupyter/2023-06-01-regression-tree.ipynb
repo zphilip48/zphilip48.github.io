{
 "cells": [
  {
   "cell_type": "markdown",
   "id": "7e408356-554c-4179-9014-d7fbf532477a",
   "metadata": {},
   "source": [
    "## Regression Tree 回归树 Practise ##\n",
    "\n"
   ]
  },
  {
   "cell_type": "markdown",
   "id": "df010f80-1665-480d-a6b3-c3d0211d3eb4",
   "metadata": {},
   "source": [
    "## example one ##\n",
    "https://github.com/Microstrong0305/WeChat-zhihu-csdnblog-code/tree/master/Decision%20Tree/lihang_5.2"
   ]
  },
  {
   "cell_type": "code",
   "execution_count": 80,
   "id": "9d2f4c4c-1fd6-4a37-9289-337f9c3e6471",
   "metadata": {},
   "outputs": [],
   "source": [
    "from numpy import *\n",
    "# 载入数据\n",
    "def loadDataSet(fileName):\n",
    "    dataMat = []\n",
    "    fr = open(fileName)\n",
    "    for line in fr.readlines():\n",
    "        curLine = line.strip().split('\\t')\n",
    "        # python3不适用：fltLine = map(float,curLine) 修改为：\n",
    "        fltLine = list(map(float, curLine))  # 将每行映射成浮点数，python3返回值改变，所以需要\n",
    "        dataMat.append(fltLine)\n",
    "    return dataMat\n",
    "\n",
    "\n",
    "# Tree结点类型：回归树\n",
    "def regLeaf(dataSet):  # 生成叶结点，在回归树中是目标变量标签值的均值\n",
    "    return mean(dataSet[:,-1])\n",
    "  \n",
    "# 误差计算函数：回归误差\n",
    "def regErr(dataSet):  # 计算目标标签值的平方误差（均方误差*总样本数）\n",
    "    return var(dataSet[:,-1]) * shape(dataSet)[0]"
   ]
  },
  {
   "cell_type": "code",
   "execution_count": 21,
   "id": "4e352cd5-f495-4f12-8bfb-12563f6516e3",
   "metadata": {},
   "outputs": [],
   "source": [
    "#simplize the notebook using matrix for data\n",
    "#myDat = mat(loadDataSet('5.2test.txt'))\n",
    "myDat = matrix([[ 1.  ,  4.5 ],\n",
    "        [ 2.  ,  4.75],\n",
    "        [ 3.  ,  4.91],\n",
    "        [ 4.  ,  5.34],\n",
    "        [ 5.  ,  5.8 ],\n",
    "        [ 6.  ,  7.05],\n",
    "        [ 7.  ,  7.9 ],\n",
    "        [ 8.  ,  8.23],\n",
    "        [ 9.  ,  8.7 ],\n",
    "        [10.  ,  9.  ]])"
   ]
  },
  {
   "cell_type": "code",
   "execution_count": 18,
   "id": "9651f8d1-dc4f-444b-95ef-be9b7feeb98b",
   "metadata": {},
   "outputs": [
    {
     "data": {
      "text/plain": [
       "27.63236"
      ]
     },
     "execution_count": 18,
     "metadata": {},
     "output_type": "execute_result"
    }
   ],
   "source": [
    "regErr(myDat)"
   ]
  },
  {
   "cell_type": "code",
   "execution_count": 44,
   "id": "12e326e1-1df7-460f-9717-5470b4f6e997",
   "metadata": {},
   "outputs": [
    {
     "data": {
      "text/plain": [
       "[1.0, 2.0, 3.0, 4.0, 5.0, 6.0, 7.0, 8.0, 9.0, 10.0]"
      ]
     },
     "execution_count": 44,
     "metadata": {},
     "output_type": "execute_result"
    }
   ],
   "source": [
    "(myDat[:, 0].T.A.tolist())[0]"
   ]
  },
  {
   "cell_type": "code",
   "execution_count": 35,
   "id": "3598726c-c6b9-483c-8094-e66d94f96405",
   "metadata": {},
   "outputs": [
    {
     "data": {
      "text/plain": [
       "matrix([[ 4.  ,  5.34],\n",
       "        [ 5.  ,  5.8 ],\n",
       "        [ 6.  ,  7.05],\n",
       "        [ 7.  ,  7.9 ],\n",
       "        [ 8.  ,  8.23],\n",
       "        [ 9.  ,  8.7 ],\n",
       "        [10.  ,  9.  ]])"
      ]
     },
     "execution_count": 35,
     "metadata": {},
     "output_type": "execute_result"
    }
   ],
   "source": [
    "myDat[nonzero(myDat[:, 1] > 5)[0], :]"
   ]
  },
  {
   "cell_type": "markdown",
   "id": "6cade9bc-966b-4ac1-a39c-4d70d64a621c",
   "metadata": {
    "tags": []
   },
   "source": [
    "#### 算法流程- (最小二乘回归树生成算法)\n",
    "\n",
    "输入: 训练数据集 $D$;\n",
    "输出: 回归树 $f(x)$.\n",
    "在训练数据集所在的输入空间中, 递归地将每个区域划分为两个子区域并决 定每个子区域上的输出值, 构建二叉决策树:\n",
    "\n",
    "(1) 选择最优切分变量 $j$ 与切分点 $s$, 求解\n",
    "$$\n",
    "\\min _{j, s}\\left[\\min _{a_1} \\sum_{x_i \\in R_1(j, s)}\\left(y_i-c_1\\right)^2+\\min _{c_2} \\sum_{x_i \\in R_2(j, s)}\\left(y_i-c_2\\right)^2\\right]\n",
    "$$\n",
    "   **遍历变量 $j$**, 对固定的切分变量 $j$ 扫描切分点 $s$, 选择使上式达到最小 值的对 $(j, s)$.  \n",
    "(2) 用选定的对 $(j, s)$ 划分区域并决定相应的输出值:\n",
    "$$\n",
    "\\begin{gathered}\n",
    "R_1(j, s)=\\left\\{x \\mid x^{(j)} \\leqslant s\\right\\}, \\quad R_2(j, s)=\\left\\{x \\mid x^{(j)}>s\\right\\} \\\\\n",
    "\\hat{c}_m=\\frac{1}{N_m} \\sum_{x_i \\in R_m(j, s)} y_i, \\quad x \\in R_m, m=1,2\n",
    "\\end{gathered}\n",
    "$$\n",
    "(3) 继续对两个子区域调用步㗶 (1), (2), 直至满足停止条件.  \n",
    "(4) 将输入空间划分为 $M$ 个区域 $R_1, R_2, \\cdots, R_M$, 生成决策树:\n",
    "$$\n",
    "f(x)=\\sum_{m=1}^M \\hat{c}_m I\\left(x \\in R_m\\right)\n",
    "$$\n",
    "\n",
    "## "
   ]
  },
  {
   "cell_type": "code",
   "execution_count": 366,
   "id": "5bac43e8-7e6c-4f91-b692-8500be5ba219",
   "metadata": {},
   "outputs": [
    {
     "data": {
      "text/plain": [
       "(300,)"
      ]
     },
     "execution_count": 366,
     "metadata": {},
     "output_type": "execute_result"
    }
   ],
   "source": [
    "(dataset1[:, featIndex].T.A)[0].shape"
   ]
  },
  {
   "cell_type": "markdown",
   "id": "3a1076f3-cc27-4f73-ae57-e74c6ec400fd",
   "metadata": {},
   "source": [
    "Sum of squared residuals \n",
    "$$\n",
    "S S R=\\sum_{j=1}^J \\sum_i\\left(y_i-\\hat{y}_{m j}\\right)^2 \\cdot b_{m j}\\left(x_i\\right)\n",
    "$$\n"
   ]
  },
  {
   "cell_type": "code",
   "execution_count": 367,
   "id": "dd93a0f2-855c-4777-85ca-7dff9ec7b4c6",
   "metadata": {},
   "outputs": [],
   "source": [
    "# 切分数据集为两个子集\n",
    "def binSplitDataSet(dataSet, feature, value):  # 数据集 待切分特征 特征值\n",
    "    mat0 = dataSet[nonzero(dataSet[:, feature] > value)[0], :]\n",
    "    mat1 = dataSet[nonzero(dataSet[:, feature] <= value)[0], :]\n",
    "    # 下面原书代码报错 index 0 is out of bounds,使用上面两行代码\n",
    "    # mat0 = dataSet[nonzero(dataSet[:, feature] > value)[0], :][0]\n",
    "    # mat1 = dataSet[nonzero(dataSet[:, feature] <= value)[0], :][0]\n",
    "    return mat0, mat1\n",
    "\n",
    "# 二元切分\n",
    "def chooseBestSplit(dataSet, leafType=regLeaf, errType=regErr, ops=(0, 1)):\n",
    "    # 切分特征的参数阈值，用户初始设置好\n",
    "    tolS = ops[0]  # 允许的误差下降值\n",
    "    tolN = ops[1]  # 切分的最小样本数\n",
    "    # 若所有特征值都相同，停止切分\n",
    "    if len(set(dataSet[:, -1].T.tolist()[0])) == 1:  # 倒数第一列转化成list 不重复\n",
    "        return None, leafType(dataSet)  # 如果剩余特征数为1，停止切分1。\n",
    "        # 找不到好的切分特征，调用regLeaf直接生成叶结点\n",
    "    m, n = shape(dataSet)\n",
    "    S = errType(dataSet)  # 不划分的平均误差(loss)，划分后的loss要好于这个,不然没增益了\n",
    "    bestS = inf  #init the best sqaure error\n",
    "    bestIndex = 0\n",
    "    bestValue = 0\n",
    "    \n",
    "    # 遍历数据的每个属性特征\n",
    "    for featIndex in range(n-1):  \n",
    "        # for splitVal in set(dataSet[:,featIndex]): python3报错修改为下面\n",
    "        featureVal = (dataSet[:, featIndex].T.A)[0]\n",
    "        #for splitVal in set(featureVal):  # 遍历每个特征里不同的特征值\n",
    "        #    splitVal = featureVal\n",
    "        \n",
    "        for i in range(len(featureVal) - 1):\n",
    "            splitVal = featureVal[i:i+2].mean()  #take the average value of the i and i+1 as split point\n",
    "            mat0, mat1 = binSplitDataSet(dataSet, featIndex, splitVal)  # 对每个特征进行二元分类\n",
    "            if (shape(mat0)[0] < tolN) or (shape(mat1)[0] < tolN): continue\n",
    "            newS = errType(mat0) + errType(mat1)  #根据某个特征值划分计算loss\n",
    "            if newS < bestS:  # 更新为误差最小的特征\n",
    "                bestIndex = featIndex\n",
    "                bestValue = splitVal\n",
    "                bestS = newS\n",
    "    # 如果切分后误差效果下降不大，则取消切分，直接创建叶结点\n",
    "    if (S - bestS) < tolS:\n",
    "        return None, leafType(dataSet)  # 停止切分2\n",
    "    mat0, mat1 = binSplitDataSet(dataSet, bestIndex, bestValue)\n",
    "    # 判断切分后子集大小，小于最小允许样本数停止切分3\n",
    "    if (shape(mat0)[0] < tolN) or (shape(mat1)[0] < tolN):\n",
    "        return None, leafType(dataSet)\n",
    "    return bestIndex, bestValue  # 返回特征编号和用于切分的特征值\n",
    "\n",
    "class retTreeNode():\n",
    "    def __init__(self, spInd, spVal, pred):\n",
    "        self.spVal = spVal\n",
    "        self.pred = pred\n",
    "        self.left = None\n",
    "        self.right = None\n",
    "        self.spInd = spInd\n",
    "\n",
    "# 构建tree\n",
    "def createTree(dataSet, leafType=regLeaf, errType=regErr, ops=(0, 1)):\n",
    "    # 数据集默认NumPy Mat 其他可选参数【结点类型：回归树，误差计算函数，ops包含树构建所需的其他元组】\n",
    "    feat, val = chooseBestSplit(dataSet, leafType, errType, ops)\n",
    "    if feat == None: \n",
    "        TreeNode = retTreeNode(None , None , val)        \n",
    "        return TreeNode  # 满足停止条件时返回叶结点值\n",
    "    # 切分后赋值\n",
    "    TreeNode = retTreeNode(feat, val, dataSet[:,-1].mean())\n",
    "    #retTree['spInd'] = feat  \n",
    "    #retTree['spVal'] = val\n",
    "    # 切分后的左右子树\n",
    "    lSet, rSet = binSplitDataSet(dataSet, feat, val)\n",
    "    TreeNode.left = createTree(lSet, leafType, errType, ops)\n",
    "    TreeNode.right = createTree(rSet, leafType, errType, ops)\n",
    "    return TreeNode"
   ]
  },
  {
   "attachments": {
    "131f6f12-4683-4016-8c0a-85b61788b73f.png": {
     "image/png": "[encoded data removed]"
    }
   },
   "cell_type": "markdown",
   "id": "f924506e-bd03-4086-8d76-522726cdca54",
   "metadata": {},
   "source": [
    "![image.png](attachment:131f6f12-4683-4016-8c0a-85b61788b73f.png)"
   ]
  },
  {
   "cell_type": "code",
   "execution_count": 368,
   "id": "48cd044a-32fc-424f-a7b1-d089a8f416a5",
   "metadata": {},
   "outputs": [
    {
     "data": {
      "image/png": "[encoded data removed]",
      "text/plain": [
       "<Figure size 640x480 with 1 Axes>"
      ]
     },
     "metadata": {},
     "output_type": "display_data"
    }
   ],
   "source": [
    "myDat = mat(loadDataSet('5.2test.txt'))\n",
    "retTree = createTree(dataSet=myDat, ops=(0, 1))\n",
    "# 绘制数据点图\n",
    "import matplotlib.pyplot as plt\n",
    "\n",
    "plt.plot(myDat[:, 0], myDat[:, 1], 'ro')\n",
    "plt.show()"
   ]
  },
  {
   "cell_type": "code",
   "execution_count": 401,
   "id": "95d18095-b2a4-4b6b-8f3f-20cbea35c936",
   "metadata": {},
   "outputs": [],
   "source": [
    "dataset1 = matrix(df.values)\n",
    "retTree = createTree(dataset1,ops=(0, 6))"
   ]
  },
  {
   "cell_type": "code",
   "execution_count": 402,
   "id": "e6a11ed7-f5b5-4001-a99d-25bd579e0415",
   "metadata": {},
   "outputs": [
    {
     "data": {
      "text/plain": [
       "10139.29592645696"
      ]
     },
     "execution_count": 402,
     "metadata": {},
     "output_type": "execute_result"
    }
   ],
   "source": [
    "regErr(dataset1)"
   ]
  },
  {
   "cell_type": "code",
   "execution_count": 403,
   "id": "ecd96a78-42fe-4723-a0a3-b0dcc27d82dd",
   "metadata": {},
   "outputs": [
    {
     "data": {
      "text/plain": [
       "10139.29592645696"
      ]
     },
     "execution_count": 403,
     "metadata": {},
     "output_type": "execute_result"
    }
   ],
   "source": [
    "SSR(df.y.to_numpy(), df.y.mean())"
   ]
  },
  {
   "cell_type": "code",
   "execution_count": 404,
   "id": "697b71f3-7b4e-4765-b70d-0fdd2684273a",
   "metadata": {},
   "outputs": [
    {
     "name": "stdout",
     "output_type": "stream",
     "text": [
      "2.9857980865390195\n",
      "-1.3165119892538402\n"
     ]
    }
   ],
   "source": [
    "Node = tree.left.right.right.left.left\n",
    "print(Node.threshold)\n",
    "print(Node.pred)"
   ]
  },
  {
   "cell_type": "code",
   "execution_count": 406,
   "id": "363c1a31-2f65-47d4-957a-53cd80d4b3b0",
   "metadata": {},
   "outputs": [
    {
     "name": "stdout",
     "output_type": "stream",
     "text": [
      "None\n",
      "-1.3898927025120198\n"
     ]
    }
   ],
   "source": [
    "Node = retTree.right.left.left.right\n",
    "print(Node.spVal)\n",
    "print(Node.pred)"
   ]
  },
  {
   "cell_type": "code",
   "execution_count": 348,
   "id": "e88239ed-25c0-473b-8104-a59a08cc73cf",
   "metadata": {},
   "outputs": [],
   "source": [
    "def predict_retTree(x):\n",
    "    curr_node = retTree\n",
    "    result = None\n",
    "    while True:\n",
    "        if not curr_node.spVal:\n",
    "            break;\n",
    "        if x > curr_node.spVal:\n",
    "            if curr_node.left: curr_node = curr_node.left\n",
    "            else: \n",
    "                break\n",
    "        elif x <= curr_node.spVal:\n",
    "            if curr_node.right: curr_node = curr_node.right\n",
    "            else: \n",
    "                break\n",
    "                \n",
    "    return curr_node.pred"
   ]
  },
  {
   "cell_type": "code",
   "execution_count": 407,
   "id": "40f01a20-5c8f-4b39-ae27-60e1188f4f7c",
   "metadata": {},
   "outputs": [
    {
     "data": {
      "text/plain": [
       "-1.3898927025120198"
      ]
     },
     "execution_count": 407,
     "metadata": {},
     "output_type": "execute_result"
    }
   ],
   "source": [
    "predict_retTree(3)"
   ]
  },
  {
   "cell_type": "markdown",
   "id": "70984164-92cb-45c5-af03-e61b18495cf0",
   "metadata": {},
   "source": [
    "** Validation still not so correct ******* unsure where is the problem compare the example2"
   ]
  },
  {
   "cell_type": "code",
   "execution_count": 408,
   "id": "bb9b342e-7268-4422-b3d7-c5b98fdf62cc",
   "metadata": {},
   "outputs": [
    {
     "name": "stdout",
     "output_type": "stream",
     "text": [
      "Training error: 0.0563\n",
      "Validation error: 5.6288\n"
     ]
    }
   ],
   "source": [
    "#validation data\n",
    "x_val = np.random.uniform(-2, 5, 50)\n",
    "y_val = np.array( [f(i) for i in x_val] ).squeeze()\n",
    "y_train= np.ravel(dataset1[:,-1])\n",
    "x_train = np.ravel(dataset1[:,0])\n",
    "\n",
    "tr_preds = np.array( [predict_retTree(i) for i in x_train])\n",
    "val_preds = np.array( [predict_retTree(i) for i in x_val] )\n",
    "\n",
    "print('Training error: {:.4f}'.format(RSE(y_train, tr_preds)))\n",
    "print('Validation error: {:.4f}'.format(RSE(y_val, val_preds)))"
   ]
  },
  {
   "cell_type": "markdown",
   "id": "b3396012-df55-4815-830b-84ff5ee0a082",
   "metadata": {},
   "source": [
    "## example two ##"
   ]
  },
  {
   "cell_type": "code",
   "execution_count": 186,
   "id": "5c4b73b7-3071-4eb4-9607-f24ec9f6716b",
   "metadata": {},
   "outputs": [
    {
     "data": {
      "image/png": "[encoded data removed]",
      "text/plain": [
       "<Figure size 640x480 with 1 Axes>"
      ]
     },
     "metadata": {},
     "output_type": "display_data"
    }
   ],
   "source": [
    "import pandas as pd\n",
    "import numpy as np\n",
    "import matplotlib.pyplot as plt\n",
    "\n",
    "##generate data and put into database\n",
    "def f(x):\n",
    "    mu, sigma = 0, 1.5\n",
    "    return -x**2 + x + 5 + np.random.normal(mu, sigma, 1)\n",
    "\n",
    "num_points = 300\n",
    "np.random.seed(1)\n",
    "    \n",
    "x = np.random.uniform(-2, 5, num_points)\n",
    "y = np.array( [f(i) for i in x] )\n",
    "\n",
    "plt.scatter(x, y, s = 5)\n",
    "df = pd.DataFrame(zip(x, y.squeeze()), columns = ['x', 'y'])"
   ]
  },
  {
   "cell_type": "code",
   "execution_count": 81,
   "id": "afda6666-ee26-431d-b017-090260c6f054",
   "metadata": {},
   "outputs": [],
   "source": [
    "#最小二乘回归树生成算法，简洁些，不过多使用点空间\n",
    "def SSR(r, y): \n",
    "    return np.sum( (r - y)**2 )\n",
    "\n",
    "def find_threshold(df, plot = False):\n",
    "    SSRs, thresholds = [], []\n",
    "    for i in range(len(df) - 1):\n",
    "        threshold = df.x[i:i+2].mean()  #take the average value of the i and i+1 as split point\n",
    "\n",
    "        low = df[(df.x <= threshold)]\n",
    "        high = df[(df.x > threshold)]\n",
    "\n",
    "        guess_low = low.y.mean()\n",
    "        guess_high = high.y.mean()\n",
    "\n",
    "        # append the cacluated SSR and the threshold value\n",
    "        SSRs.append(SSR(low.y.to_numpy(), guess_low) + SSR(high.y.to_numpy(), guess_high)) \n",
    "        thresholds.append(threshold)\n",
    "    \n",
    "    if plot:\n",
    "        plt.scatter(thresholds, SSRs, s = 3)\n",
    "        plt.show()\n",
    "        \n",
    "    return thresholds[SSRs.index(min(SSRs))] # returen the min ssr value and threshold"
   ]
  },
  {
   "cell_type": "code",
   "execution_count": 167,
   "id": "26cd0fe5-1caa-4f4f-a639-423a703b925d",
   "metadata": {},
   "outputs": [],
   "source": [
    "class TreeNode():\n",
    "    def __init__(self, threshold, pred):\n",
    "        self.threshold = threshold\n",
    "        self.pred = pred\n",
    "        self.left = None\n",
    "        self.right = None\n",
    "\n",
    "def create_nodes(tree, df, stop):\n",
    "    low = df[df.x <= tree.threshold]\n",
    "    high = df[df.x > tree.threshold]\n",
    "    \n",
    "    if len(low) > stop:\n",
    "        threshold = find_threshold(low) # threshold for next level split\n",
    "        tree.left = TreeNode(threshold, low.y.mean()) #create the left node which have split point - threshold\n",
    "        create_nodes(tree.left, low, stop)\n",
    "        \n",
    "    if len(high) > stop:\n",
    "        threshold = find_threshold(high) # threshold for next level split\n",
    "        tree.right = TreeNode(threshold, high.y.mean()) #create the left node which have split point - threshold\n",
    "        create_nodes(tree.right, high, stop)\n",
    "        \n",
    "threshold = find_threshold(df)\n",
    "tree = TreeNode(threshold, df.y.mean())\n",
    "create_nodes(tree, df, 5)"
   ]
  },
  {
   "cell_type": "code",
   "execution_count": 171,
   "id": "68fdbe59-49fd-4bd9-bd27-62ff9494f548",
   "metadata": {},
   "outputs": [
    {
     "data": {
      "text/plain": [
       "3.323943098526348"
      ]
     },
     "execution_count": 171,
     "metadata": {},
     "output_type": "execute_result"
    }
   ],
   "source": [
    "tree.threshold"
   ]
  },
  {
   "cell_type": "code",
   "execution_count": 200,
   "id": "8a2c4f45-5696-4e51-b8ef-8ffe6bff76a2",
   "metadata": {},
   "outputs": [],
   "source": [
    "def predict(x,tree):\n",
    "    curr_node = tree\n",
    "    result = None\n",
    "    while True:\n",
    "        if x <= curr_node.threshold:\n",
    "            if curr_node.left: curr_node = curr_node.left\n",
    "            else: \n",
    "                break\n",
    "        elif x > curr_node.threshold:\n",
    "            if curr_node.right: curr_node = curr_node.right\n",
    "            else: \n",
    "                break\n",
    "                \n",
    "    return curr_node.pred"
   ]
  },
  {
   "cell_type": "code",
   "execution_count": 202,
   "id": "18cf7bf9-6f4b-4363-aae6-e3a012790403",
   "metadata": {},
   "outputs": [
    {
     "data": {
      "text/plain": [
       "-1.3165119892538402"
      ]
     },
     "execution_count": 202,
     "metadata": {},
     "output_type": "execute_result"
    }
   ],
   "source": [
    "predict(3,tree)"
   ]
  },
  {
   "cell_type": "markdown",
   "id": "3244a1a7-abd4-42ba-9e91-d8ce8f7d0212",
   "metadata": {},
   "source": [
    "using Relative squared error to evluate\n",
    "$$\n",
    "\\begin{gathered}\n",
    "\\mathrm{RSE}=\\frac{\\sum_{i=1}^n\\left(y_i-\\hat{y}_i\\right)^2}{\\sum_{i=1}^n\\left(y_i-\\bar{y}\\right)^2} \\\\\n",
    "\\text { where } \\quad \\bar{y}=\\frac{1}{n} \\sum_{i=1}^n y_i\n",
    "\\end{gathered}\n",
    "$$\n"
   ]
  },
  {
   "cell_type": "code",
   "execution_count": 151,
   "id": "ec33bc2d-add2-430f-80ed-9884ad75b287",
   "metadata": {},
   "outputs": [
    {
     "name": "stdout",
     "output_type": "stream",
     "text": [
      "Training error: 0.0556\n",
      "Validation error: 0.0869\n"
     ]
    }
   ],
   "source": [
    "def RSE(y, g): \n",
    "    return sum(np.square(y - g)) / sum(np.square(y - 1 / len(y)*sum(y)))\n",
    "\n",
    "#validation data\n",
    "x_val = np.random.uniform(-2, 5, 50)\n",
    "y_val = np.array( [f(i) for i in x_val] ).squeeze()\n",
    "\n",
    "tr_preds = np.array( [predict(i) for i in df.x] )\n",
    "val_preds = np.array( [predict(i) for i in x_val] )\n",
    "print('Training error: {:.4f}'.format(RSE(df.y, tr_preds)))\n",
    "print('Validation error: {:.4f}'.format(RSE(y_val, val_preds)))"
   ]
  },
  {
   "cell_type": "code",
   "execution_count": 205,
   "id": "66b86fbb-a21d-46e0-98dd-341211bb7315",
   "metadata": {},
   "outputs": [
    {
     "data": {
      "image/png": "[encoded data removed]",
      "text/plain": [
       "<Figure size 640x480 with 1 Axes>"
      ]
     },
     "metadata": {},
     "output_type": "display_data"
    }
   ],
   "source": [
    "def f2(x):\n",
    "    mu, sigma = 0, 0.5\n",
    "    if x < 3: return 1 + np.random.normal(mu, sigma, 1)\n",
    "    elif x >= 3 and x < 6: return 9 + np.random.normal(mu, sigma, 1)\n",
    "    elif x >= 6: return 5 + np.random.normal(mu, sigma, 1)\n",
    "    \n",
    "np.random.seed(1)\n",
    "    \n",
    "x = np.random.uniform(0, 10, num_points)\n",
    "y = np.array( [f2(i) for i in x] )\n",
    "\n",
    "plt.scatter(x, y, s = 5)\n",
    "df2 = pd.DataFrame(zip(x, y.squeeze()), columns = ['x', 'y'])"
   ]
  },
  {
   "cell_type": "code",
   "execution_count": 203,
   "id": "94846e49-4e86-47c0-b329-bd3a2aa3e33a",
   "metadata": {},
   "outputs": [],
   "source": [
    "threshold = find_threshold(df2)\n",
    "tree2 = TreeNode(threshold, df2.y.mean())\n",
    "create_nodes(tree2, df2, 5)"
   ]
  },
  {
   "cell_type": "code",
   "execution_count": 204,
   "id": "af7f3dd7-fa12-4317-9a0b-3fbc2bce34f3",
   "metadata": {},
   "outputs": [
    {
     "data": {
      "text/plain": [
       "8.008297455717981"
      ]
     },
     "execution_count": 204,
     "metadata": {},
     "output_type": "execute_result"
    }
   ],
   "source": [
    "predict(3,tree2)"
   ]
  },
  {
   "cell_type": "code",
   "execution_count": 206,
   "id": "d4549e35-e71b-469c-b7fc-3bd505e7a074",
   "metadata": {},
   "outputs": [
    {
     "name": "stdout",
     "output_type": "stream",
     "text": [
      "Training error: 0.0377\n",
      "Validation error: 0.0241\n"
     ]
    }
   ],
   "source": [
    "#validation data\n",
    "x_val = np.random.uniform(-2, 5, 50)\n",
    "y_val = np.array( [f2(i) for i in x_val] ).squeeze()\n",
    "\n",
    "tr_preds = np.array( [predict(i,tree2) for i in df2.x] )\n",
    "val_preds = np.array( [predict(i,tree2) for i in x_val] )\n",
    "print('Training error: {:.4f}'.format(RSE(df2.y, tr_preds)))\n",
    "print('Validation error: {:.4f}'.format(RSE(y_val, val_preds)))"
   ]
  },
  {
   "cell_type": "code",
   "execution_count": 196,
   "id": "8caf9250-2e8a-4b8f-bbc8-d4d98dd85eac",
   "metadata": {},
   "outputs": [
    {
     "data": {
      "image/png": "[encoded data removed]",
      "text/plain": [
       "<Figure size 640x480 with 2 Axes>"
      ]
     },
     "metadata": {},
     "output_type": "display_data"
    }
   ],
   "source": [
    "import pandas as pd\n",
    "import numpy as np\n",
    "import matplotlib.pyplot as plt\n",
    "from matplotlib.animation import FuncAnimation\n",
    "\n",
    "#===================================================Create Data\n",
    "def f(x):\n",
    "    mu, sigma = 0, 1.5\n",
    "    return -x**2 + x + 5 + np.random.normal(mu, sigma, 1)\n",
    "\n",
    "np.random.seed(1)\n",
    "    \n",
    "x = np.random.uniform(-2, 5, 300)\n",
    "y = np.array( [f(i) for i in x] )\n",
    "\n",
    "p = x.argsort()\n",
    "x = x[p]\n",
    "y = y[p]\n",
    "\n",
    "\n",
    "#===================================================Calculate Thresholds\n",
    "def SSR(r, y): #send numpy array\n",
    "    return np.sum( (r - y)**2 )\n",
    "\n",
    "SSRs, thresholds = [], []\n",
    "for i in range(len(x) - 1):\n",
    "    threshold = x[i:i+2].mean()\n",
    "    \n",
    "    low = np.take(y, np.where(x < threshold))\n",
    "    high = np.take(y, np.where(x > threshold))\n",
    "    \n",
    "    guess_low = low.mean()\n",
    "    guess_high = high.mean()\n",
    "    \n",
    "    SSRs.append(SSR(low, guess_low) + SSR(high, guess_high))\n",
    "    thresholds.append(threshold)\n",
    "\n",
    "#===================================================Animated Plot\n",
    "fig, (ax1, ax2) = plt.subplots(2,1, sharex = True)\n",
    "x_data, y_data = [], []\n",
    "x_data2, y_data2 = [], []\n",
    "ln, = ax1.plot([], [], 'r--')\n",
    "ln2, = ax2.plot(thresholds, SSRs, 'ro', markersize = 2)\n",
    "line = [ln, ln2]\n",
    "\n",
    "def init():\n",
    "    ax1.scatter(x, y, s = 3)\n",
    "    ax1.title.set_text('Trying Different Thresholds')\n",
    "    ax2.title.set_text('Threshold vs SSR')\n",
    "    ax1.set_ylabel('y values')\n",
    "    ax2.set_xlabel('Threshold')\n",
    "    ax2.set_ylabel('SSR')\n",
    "    return line\n",
    "\n",
    "def update(frame):\n",
    "    x_data = [x[frame:frame+2].mean()] * 2\n",
    "    y_data = [min(y), max(y)]\n",
    "    line[0].set_data(x_data, y_data)\n",
    "\n",
    "    x_data2.append(thresholds[frame])\n",
    "    y_data2.append(SSRs[frame])\n",
    "    line[1].set_data(x_data2, y_data2)\n",
    "    return line\n",
    "\n",
    "ani = FuncAnimation(fig, update, frames = 298,\n",
    "                    init_func = init, blit = True)\n",
    "plt.show()\n",
    "#ani.save('regression_tree_thresholds_120.gif', writer='imagemagick', fps=120)"
   ]
  },
  {
   "cell_type": "markdown",
   "id": "59bcf65a-4ab0-4878-913c-0ecd9822e400",
   "metadata": {},
   "source": [
    "## example three ##"
   ]
  },
  {
   "cell_type": "code",
   "execution_count": 3,
   "id": "5e47b8f2-34cc-48da-a4c7-01bea6f8e7ab",
   "metadata": {},
   "outputs": [
    {
     "data": {
      "image/png": "[encoded data removed]",
      "text/plain": [
       "<Figure size 640x480 with 1 Axes>"
      ]
     },
     "metadata": {},
     "output_type": "display_data"
    }
   ],
   "source": [
    "import numpy as np\n",
    "import matplotlib.pyplot as plt\n",
    "from sklearn.tree import DecisionTreeRegressor\n",
    "from sklearn import linear_model\n",
    "\n",
    "# Data set\n",
    "x = np.array(list(range(1, 11))).reshape(-1, 1)\n",
    "y = np.array([4.50, 4.75, 4.91, 5.34, 5.80, 7.05, 7.90, 8.23, 8.70, 9.00]).ravel()\n",
    "\n",
    "# Fit regression model\n",
    "model1 = DecisionTreeRegressor(max_depth=1)\n",
    "model2 = DecisionTreeRegressor(max_depth=3)\n",
    "model3 = linear_model.LinearRegression()\n",
    "model1.fit(x, y)\n",
    "model2.fit(x, y)\n",
    "model3.fit(x, y)\n",
    "\n",
    "# Predict\n",
    "X_test = np.arange(0.0, 10.0, 0.01)[:, np.newaxis]\n",
    "y_1 = model1.predict(X_test)\n",
    "y_2 = model2.predict(X_test)\n",
    "y_3 = model3.predict(X_test)\n",
    "\n",
    "# Plot the results\n",
    "plt.figure()\n",
    "plt.scatter(x, y, s=20, edgecolor=\"black\",\n",
    "            c=\"darkorange\", label=\"data\")\n",
    "plt.plot(X_test, y_1, color=\"cornflowerblue\",\n",
    "         label=\"max_depth=1\", linewidth=2)\n",
    "plt.plot(X_test, y_2, color=\"yellowgreen\", label=\"max_depth=3\", linewidth=2)\n",
    "plt.plot(X_test, y_3, color='red', label='liner regression', linewidth=2)\n",
    "plt.xlabel(\"data\")\n",
    "plt.ylabel(\"target\")\n",
    "plt.title(\"Decision Tree Regression\")\n",
    "plt.legend()\n",
    "plt.show()"
   ]
  },
  {
   "cell_type": "code",
   "execution_count": null,
   "id": "0a109530-e1e4-48be-90a2-2c3a89670571",
   "metadata": {},
   "outputs": [],
   "source": []
  }
 ],
 "metadata": {
  "environment": {
   "kernel": "python3",
   "name": "common-cpu.m107",
   "type": "gcloud",
   "uri": "gcr.io/deeplearning-platform-release/base-cpu:m107"
  },
  "kernelspec": {
   "display_name": "Python 3",
   "language": "python",
   "name": "python3"
  },
  "language_info": {
   "codemirror_mode": {
    "name": "ipython",
    "version": 3
   },
   "file_extension": ".py",
   "mimetype": "text/x-python",
   "name": "python",
   "nbconvert_exporter": "python",
   "pygments_lexer": "ipython3",
   "version": "3.7.12"
  }
 },
 "nbformat": 4,
 "nbformat_minor": 5
}
